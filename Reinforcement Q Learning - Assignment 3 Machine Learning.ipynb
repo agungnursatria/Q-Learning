{
 "cells": [
  {
   "cell_type": "code",
   "execution_count": 2,
   "metadata": {},
   "outputs": [
    {
     "name": "stdout",
     "output_type": "stream",
     "text": [
      "========================================\n",
      "Reward =  60.0\n",
      "Number of Action =  18\n",
      "Total Score =  4165\n",
      "========================================\n"
     ]
    }
   ],
   "source": [
    "import numpy as np\n",
    "import random\n",
    "\n",
    "def possible_direction(row,column):\n",
    "    direction = ['N','E','S','W']\n",
    "    if (row == 0):\n",
    "        direction.remove('N')\n",
    "    if (row == len(R)-1):\n",
    "        direction.remove('S')\n",
    "    if (column == 0):\n",
    "        direction.remove('W')\n",
    "    if (column == len(R)-1):\n",
    "        direction.remove('E')\n",
    "    return direction\n",
    "\n",
    "def nextState(row,column, direction):\n",
    "    if(direction == 'N'):\n",
    "        row = row -1\n",
    "    if(direction == 'E'):\n",
    "        column = column + 1\n",
    "    if(direction == 'S'):\n",
    "        row = row + 1\n",
    "    if(direction == 'W'):\n",
    "        column = column -1\n",
    "    return [row,column]\n",
    "\n",
    "def possible_action_Q(Q,qRow,qColumn,direction):\n",
    "    valueNextAction = []\n",
    "    for d in direction:\n",
    "        [nRow,nColumn] = nextState(qRow,qColumn,d)\n",
    "        valueNextAction.append([d,Q[nRow,nColumn]])\n",
    "    return valueNextAction\n",
    "    \n",
    "##=========== Learning\n",
    "# Setting Gamma\n",
    "Gamma = 0.9\n",
    "# Initialize matrix R\n",
    "R = np.loadtxt('Data Tugas 3 RL.txt')\n",
    "# Initialize matrix Q to zero\n",
    "Q = np.zeros((10,10), dtype=int)\n",
    "\n",
    "for episode in range(1,1001):\n",
    "    # initial state\n",
    "    [row,column] = [9,0]\n",
    "    current_state = R[row,column]    \n",
    "    \n",
    "    while current_state != 100:\n",
    "        # selecting one of possible direction\n",
    "        direction = random.choice(possible_direction(row,column))\n",
    "        [nextRow,nextColumn] = nextState(row,column,direction)\n",
    "        \n",
    "        # get possible action from next state\n",
    "        valueNextAction = possible_action_Q(Q,nextRow,nextColumn,possible_direction(nextRow,nextColumn))\n",
    "        \n",
    "        # get maximum Q value for next state and insert to Q next state\n",
    "        Q[nextRow,nextColumn] = R[nextRow,nextColumn] + (Gamma * max(valueNextAction, key=lambda x:x[1])[1])\n",
    "        \n",
    "        # set next state as the current state\n",
    "        [row,column] = [nextRow,nextColumn]\n",
    "        current_state = R[row,column] \n",
    "    \n",
    "##=========== Running\n",
    "# initial state\n",
    "[row,column] = [9,0]\n",
    "direction = []\n",
    "current_state = R[row,column]   \n",
    "Totalscore = Q[row,column]\n",
    "ListReward = [current_state]\n",
    "\n",
    "while current_state != 100:\n",
    "    # get possible action direction\n",
    "    direction = possible_direction(row,column)\n",
    "    listNextAction = possible_action_Q(Q,row,column,direction) \n",
    "    \n",
    "    # get best direction\n",
    "    bestDirection = max(listNextAction, key=lambda x:x[1])[0]\n",
    "    \n",
    "    # set next state as the current state\n",
    "    [nextRow,nextColumn] = nextState(row,column,bestDirection)\n",
    "    [row,column] = [nextRow,nextColumn]\n",
    "    current_state = R[row,column] \n",
    "    Totalscore = Totalscore + Q[row,column]\n",
    "    ListReward.append(current_state)\n",
    "    \n",
    "print('========================================')\n",
    "print('Reward = ', sum(ListReward))\n",
    "print('Number of Action = ', len(ListReward)-1)\n",
    "print('Total Score = ', Totalscore)\n",
    "print('========================================')\n"
   ]
  },
  {
   "cell_type": "code",
   "execution_count": 3,
   "metadata": {},
   "outputs": [
    {
     "name": "stdout",
     "output_type": "stream",
     "text": [
      "[[179 200 226 257 287 323 363 409 461 514]\n",
      " [160 181 203 227 256 285 323 363 409 457]\n",
      " [141 158 178 203 227 252 286 324 365 406]\n",
      " [123 137 158 177 203 226 256 291 325 361]\n",
      " [108 125 143 163 184 206 230 257 289 320]\n",
      " [ 95 110 124 144 161 180 206 230 258 284]\n",
      " [ 82  96 111 126 143 159 181 204 231 252]\n",
      " [ 71  84  94 110 127 139 157 179 205 222]\n",
      " [ 66  76  86  97 113 122 139 161 180 198]\n",
      " [ 54  65  76  85  97 106 122 142 160 176]]\n"
     ]
    }
   ],
   "source": [
    "print(Q)"
   ]
  },
  {
   "cell_type": "code",
   "execution_count": 4,
   "metadata": {},
   "outputs": [
    {
     "name": "stdout",
     "output_type": "stream",
     "text": [
      "[[  -1.   -3.   -5.   -1.   -3.   -3.   -5.   -5.   -1.  100.]\n",
      " [  -2.   -1.   -1.   -4.   -2.   -5.   -3.   -5.   -5.   -5.]\n",
      " [  -3.   -4.   -4.   -1.   -3.   -5.   -5.   -4.   -3.   -5.]\n",
      " [  -3.   -5.   -2.   -5.   -1.   -4.   -5.   -1.   -3.   -4.]\n",
      " [  -4.   -3.   -3.   -2.   -1.   -1.   -1.   -4.   -3.   -4.]\n",
      " [  -4.   -2.   -5.   -2.   -4.   -5.   -1.   -2.   -2.   -4.]\n",
      " [  -4.   -3.   -2.   -3.   -1.   -3.   -4.   -3.   -1.   -3.]\n",
      " [  -4.   -2.   -5.   -4.   -1.   -4.   -5.   -5.   -2.   -4.]\n",
      " [  -2.   -1.   -1.   -4.   -1.   -3.   -5.   -1.   -4.   -1.]\n",
      " [  -5.   -3.   -1.   -2.   -4.   -3.   -5.   -2.   -2.   -2.]]\n"
     ]
    }
   ],
   "source": [
    "print(R)"
   ]
  },
  {
   "cell_type": "code",
   "execution_count": 6,
   "metadata": {},
   "outputs": [
    {
     "name": "stdout",
     "output_type": "stream",
     "text": [
      "[  -5.   -2.   -1.   -1.   -4.   -1.   -1.   -1.   -4.   -1.   -1.   -1.\n",
      "   -4.   -1.   -3.   -3.   -5.   -1.  100.]\n"
     ]
    }
   ],
   "source": [
    "print(np.array(ListReward))"
   ]
  },
  {
   "cell_type": "code",
   "execution_count": null,
   "metadata": {
    "collapsed": true
   },
   "outputs": [],
   "source": []
  }
 ],
 "metadata": {
  "kernelspec": {
   "display_name": "Python 3",
   "language": "python",
   "name": "python3"
  },
  "language_info": {
   "codemirror_mode": {
    "name": "ipython",
    "version": 3
   },
   "file_extension": ".py",
   "mimetype": "text/x-python",
   "name": "python",
   "nbconvert_exporter": "python",
   "pygments_lexer": "ipython3",
   "version": "3.6.3"
  }
 },
 "nbformat": 4,
 "nbformat_minor": 2
}
